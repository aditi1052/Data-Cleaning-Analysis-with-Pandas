{
 "cells": [
  {
   "cell_type": "code",
   "execution_count": 13,
   "id": "5965a1c0",
   "metadata": {},
   "outputs": [],
   "source": [
    "import pandas as pd\n",
    "import seaborn as sns\n",
    "import matplotlib.pyplot as plt\n",
    "import warnings\n",
    "warnings.filterwarnings('ignore')"
   ]
  },
  {
   "cell_type": "markdown",
   "id": "b93f81ab",
   "metadata": {},
   "source": [
    "# 1.Data Import"
   ]
  },
  {
   "cell_type": "code",
   "execution_count": 14,
   "id": "0b9a7224",
   "metadata": {},
   "outputs": [
    {
     "data": {
      "text/html": [
       "<div>\n",
       "<style scoped>\n",
       "    .dataframe tbody tr th:only-of-type {\n",
       "        vertical-align: middle;\n",
       "    }\n",
       "\n",
       "    .dataframe tbody tr th {\n",
       "        vertical-align: top;\n",
       "    }\n",
       "\n",
       "    .dataframe thead th {\n",
       "        text-align: right;\n",
       "    }\n",
       "</style>\n",
       "<table border=\"1\" class=\"dataframe\">\n",
       "  <thead>\n",
       "    <tr style=\"text-align: right;\">\n",
       "      <th></th>\n",
       "      <th>product_id</th>\n",
       "      <th>product_name</th>\n",
       "      <th>category</th>\n",
       "      <th>price</th>\n",
       "      <th>review_score</th>\n",
       "      <th>review_count</th>\n",
       "      <th>sales_month_1</th>\n",
       "      <th>sales_month_2</th>\n",
       "      <th>sales_month_3</th>\n",
       "      <th>sales_month_4</th>\n",
       "      <th>sales_month_5</th>\n",
       "      <th>sales_month_6</th>\n",
       "      <th>sales_month_7</th>\n",
       "      <th>sales_month_8</th>\n",
       "      <th>sales_month_9</th>\n",
       "      <th>sales_month_10</th>\n",
       "      <th>sales_month_11</th>\n",
       "      <th>sales_month_12</th>\n",
       "    </tr>\n",
       "  </thead>\n",
       "  <tbody>\n",
       "    <tr>\n",
       "      <th>0</th>\n",
       "      <td>1</td>\n",
       "      <td>Product_1</td>\n",
       "      <td>Clothing</td>\n",
       "      <td>190.40</td>\n",
       "      <td>1.7</td>\n",
       "      <td>220</td>\n",
       "      <td>479</td>\n",
       "      <td>449</td>\n",
       "      <td>92</td>\n",
       "      <td>784</td>\n",
       "      <td>604</td>\n",
       "      <td>904</td>\n",
       "      <td>446</td>\n",
       "      <td>603</td>\n",
       "      <td>807</td>\n",
       "      <td>252</td>\n",
       "      <td>695</td>\n",
       "      <td>306</td>\n",
       "    </tr>\n",
       "    <tr>\n",
       "      <th>1</th>\n",
       "      <td>2</td>\n",
       "      <td>Product_2</td>\n",
       "      <td>Home &amp; Kitchen</td>\n",
       "      <td>475.60</td>\n",
       "      <td>3.2</td>\n",
       "      <td>903</td>\n",
       "      <td>21</td>\n",
       "      <td>989</td>\n",
       "      <td>861</td>\n",
       "      <td>863</td>\n",
       "      <td>524</td>\n",
       "      <td>128</td>\n",
       "      <td>610</td>\n",
       "      <td>436</td>\n",
       "      <td>176</td>\n",
       "      <td>294</td>\n",
       "      <td>772</td>\n",
       "      <td>353</td>\n",
       "    </tr>\n",
       "    <tr>\n",
       "      <th>2</th>\n",
       "      <td>3</td>\n",
       "      <td>Product_3</td>\n",
       "      <td>Toys</td>\n",
       "      <td>367.34</td>\n",
       "      <td>4.5</td>\n",
       "      <td>163</td>\n",
       "      <td>348</td>\n",
       "      <td>558</td>\n",
       "      <td>567</td>\n",
       "      <td>143</td>\n",
       "      <td>771</td>\n",
       "      <td>409</td>\n",
       "      <td>290</td>\n",
       "      <td>828</td>\n",
       "      <td>340</td>\n",
       "      <td>667</td>\n",
       "      <td>267</td>\n",
       "      <td>392</td>\n",
       "    </tr>\n",
       "    <tr>\n",
       "      <th>3</th>\n",
       "      <td>4</td>\n",
       "      <td>Product_4</td>\n",
       "      <td>Toys</td>\n",
       "      <td>301.34</td>\n",
       "      <td>3.9</td>\n",
       "      <td>951</td>\n",
       "      <td>725</td>\n",
       "      <td>678</td>\n",
       "      <td>59</td>\n",
       "      <td>15</td>\n",
       "      <td>937</td>\n",
       "      <td>421</td>\n",
       "      <td>670</td>\n",
       "      <td>933</td>\n",
       "      <td>56</td>\n",
       "      <td>157</td>\n",
       "      <td>168</td>\n",
       "      <td>203</td>\n",
       "    </tr>\n",
       "    <tr>\n",
       "      <th>4</th>\n",
       "      <td>5</td>\n",
       "      <td>Product_5</td>\n",
       "      <td>Books</td>\n",
       "      <td>82.23</td>\n",
       "      <td>4.2</td>\n",
       "      <td>220</td>\n",
       "      <td>682</td>\n",
       "      <td>451</td>\n",
       "      <td>649</td>\n",
       "      <td>301</td>\n",
       "      <td>620</td>\n",
       "      <td>293</td>\n",
       "      <td>411</td>\n",
       "      <td>258</td>\n",
       "      <td>854</td>\n",
       "      <td>548</td>\n",
       "      <td>770</td>\n",
       "      <td>257</td>\n",
       "    </tr>\n",
       "  </tbody>\n",
       "</table>\n",
       "</div>"
      ],
      "text/plain": [
       "   product_id product_name        category   price  review_score  \\\n",
       "0           1    Product_1        Clothing  190.40           1.7   \n",
       "1           2    Product_2  Home & Kitchen  475.60           3.2   \n",
       "2           3    Product_3            Toys  367.34           4.5   \n",
       "3           4    Product_4            Toys  301.34           3.9   \n",
       "4           5    Product_5           Books   82.23           4.2   \n",
       "\n",
       "   review_count  sales_month_1  sales_month_2  sales_month_3  sales_month_4  \\\n",
       "0           220            479            449             92            784   \n",
       "1           903             21            989            861            863   \n",
       "2           163            348            558            567            143   \n",
       "3           951            725            678             59             15   \n",
       "4           220            682            451            649            301   \n",
       "\n",
       "   sales_month_5  sales_month_6  sales_month_7  sales_month_8  sales_month_9  \\\n",
       "0            604            904            446            603            807   \n",
       "1            524            128            610            436            176   \n",
       "2            771            409            290            828            340   \n",
       "3            937            421            670            933             56   \n",
       "4            620            293            411            258            854   \n",
       "\n",
       "   sales_month_10  sales_month_11  sales_month_12  \n",
       "0             252             695             306  \n",
       "1             294             772             353  \n",
       "2             667             267             392  \n",
       "3             157             168             203  \n",
       "4             548             770             257  "
      ]
     },
     "execution_count": 14,
     "metadata": {},
     "output_type": "execute_result"
    }
   ],
   "source": [
    "df = pd.read_csv(r\"C:\\Users\\KaushalDhumal\\Downloads\\ecommerce_sales_analysis.csv\")\n",
    "df.head()"
   ]
  },
  {
   "cell_type": "markdown",
   "id": "336bb733",
   "metadata": {},
   "source": [
    "# 2.Data Cleaning\n",
    "Handling missing and incorrect data"
   ]
  },
  {
   "cell_type": "markdown",
   "id": "5c392ae9",
   "metadata": {},
   "source": [
    "### Check for missing values"
   ]
  },
  {
   "cell_type": "code",
   "execution_count": 15,
   "id": "24576812",
   "metadata": {},
   "outputs": [
    {
     "data": {
      "text/plain": [
       "product_id        0\n",
       "product_name      0\n",
       "category          0\n",
       "price             0\n",
       "review_score      0\n",
       "review_count      0\n",
       "sales_month_1     0\n",
       "sales_month_2     0\n",
       "sales_month_3     0\n",
       "sales_month_4     0\n",
       "sales_month_5     0\n",
       "sales_month_6     0\n",
       "sales_month_7     0\n",
       "sales_month_8     0\n",
       "sales_month_9     0\n",
       "sales_month_10    0\n",
       "sales_month_11    0\n",
       "sales_month_12    0\n",
       "dtype: int64"
      ]
     },
     "execution_count": 15,
     "metadata": {},
     "output_type": "execute_result"
    }
   ],
   "source": [
    "df.isnull().sum()"
   ]
  },
  {
   "cell_type": "markdown",
   "id": "cf3c418f",
   "metadata": {},
   "source": [
    "### Check if any duplicate values"
   ]
  },
  {
   "cell_type": "code",
   "execution_count": 19,
   "id": "c6565755",
   "metadata": {},
   "outputs": [
    {
     "name": "stdout",
     "output_type": "stream",
     "text": [
      "Duplicate Records:  0\n"
     ]
    }
   ],
   "source": [
    "duplicates = df.duplicated().sum()\n",
    "print(\"Duplicate Records: \",duplicates)"
   ]
  },
  {
   "cell_type": "markdown",
   "id": "d8b1e516",
   "metadata": {},
   "source": [
    "### Checking for negative or invalid values in key numerical cols"
   ]
  },
  {
   "cell_type": "code",
   "execution_count": 29,
   "id": "3daf3473",
   "metadata": {},
   "outputs": [
    {
     "name": "stdout",
     "output_type": "stream",
     "text": [
      "Invaid prices:  0 \n",
      "Invalid review scores:  0 \n",
      "Invlaid sales:  sales_month_1     0\n",
      "sales_month_2     0\n",
      "sales_month_3     0\n",
      "sales_month_4     0\n",
      "sales_month_5     0\n",
      "sales_month_6     0\n",
      "sales_month_7     0\n",
      "sales_month_8     0\n",
      "sales_month_9     0\n",
      "sales_month_10    0\n",
      "sales_month_11    0\n",
      "sales_month_12    0\n",
      "dtype: int64\n"
     ]
    }
   ],
   "source": [
    "invalid_prices = (df['price'] < 0).sum()\n",
    "invalid_review_scores = ((df['review_score'] < 0) | (df['review_score'] > 5)).sum()\n",
    "invalid_sales = (df.iloc[:, 6:] <0).sum()\n",
    "print('Invaid prices: ',invalid_prices,'\\nInvalid review scores: ',invalid_review_scores, '\\nInvlaid sales: ',invalid_sales )"
   ]
  },
  {
   "cell_type": "markdown",
   "id": "c5757be5",
   "metadata": {},
   "source": [
    "### Checking for Outliers"
   ]
  },
  {
   "cell_type": "code",
   "execution_count": 17,
   "id": "b459142a",
   "metadata": {},
   "outputs": [
    {
     "data": {
      "text/plain": [
       "<Axes: >"
      ]
     },
     "execution_count": 17,
     "metadata": {},
     "output_type": "execute_result"
    },
    {
     "data": {
      "image/png": "[encoded data removed]",
      "text/plain": [
       "<Figure size 640x480 with 1 Axes>"
      ]
     },
     "metadata": {},
     "output_type": "display_data"
    }
   ],
   "source": [
    "sns.boxplot(data=df)"
   ]
  },
  {
   "cell_type": "markdown",
   "id": "411062c7",
   "metadata": {},
   "source": [
    "# 3.Sales & Review Analysis"
   ]
  },
  {
   "cell_type": "code",
   "execution_count": 18,
   "id": "d556d4bf",
   "metadata": {},
   "outputs": [
    {
     "data": {
      "text/html": [
       "<div>\n",
       "<style scoped>\n",
       "    .dataframe tbody tr th:only-of-type {\n",
       "        vertical-align: middle;\n",
       "    }\n",
       "\n",
       "    .dataframe tbody tr th {\n",
       "        vertical-align: top;\n",
       "    }\n",
       "\n",
       "    .dataframe thead th {\n",
       "        text-align: right;\n",
       "    }\n",
       "</style>\n",
       "<table border=\"1\" class=\"dataframe\">\n",
       "  <thead>\n",
       "    <tr style=\"text-align: right;\">\n",
       "      <th></th>\n",
       "      <th>product_id</th>\n",
       "      <th>price</th>\n",
       "      <th>review_score</th>\n",
       "      <th>review_count</th>\n",
       "      <th>sales_month_1</th>\n",
       "      <th>sales_month_2</th>\n",
       "      <th>sales_month_3</th>\n",
       "      <th>sales_month_4</th>\n",
       "      <th>sales_month_5</th>\n",
       "      <th>sales_month_6</th>\n",
       "      <th>sales_month_7</th>\n",
       "      <th>sales_month_8</th>\n",
       "      <th>sales_month_9</th>\n",
       "      <th>sales_month_10</th>\n",
       "      <th>sales_month_11</th>\n",
       "      <th>sales_month_12</th>\n",
       "    </tr>\n",
       "  </thead>\n",
       "  <tbody>\n",
       "    <tr>\n",
       "      <th>count</th>\n",
       "      <td>1000.000000</td>\n",
       "      <td>1000.000000</td>\n",
       "      <td>1000.000000</td>\n",
       "      <td>1000.000000</td>\n",
       "      <td>1000.000000</td>\n",
       "      <td>1000.000000</td>\n",
       "      <td>1000.000000</td>\n",
       "      <td>1000.000000</td>\n",
       "      <td>1000.000000</td>\n",
       "      <td>1000.000000</td>\n",
       "      <td>1000.000000</td>\n",
       "      <td>1000.000000</td>\n",
       "      <td>1000.000000</td>\n",
       "      <td>1000.000000</td>\n",
       "      <td>1000.00000</td>\n",
       "      <td>1000.000000</td>\n",
       "    </tr>\n",
       "    <tr>\n",
       "      <th>mean</th>\n",
       "      <td>500.500000</td>\n",
       "      <td>247.677130</td>\n",
       "      <td>3.027600</td>\n",
       "      <td>526.506000</td>\n",
       "      <td>498.306000</td>\n",
       "      <td>507.661000</td>\n",
       "      <td>506.739000</td>\n",
       "      <td>503.823000</td>\n",
       "      <td>487.194000</td>\n",
       "      <td>491.653000</td>\n",
       "      <td>507.011000</td>\n",
       "      <td>504.569000</td>\n",
       "      <td>491.934000</td>\n",
       "      <td>514.798000</td>\n",
       "      <td>505.83800</td>\n",
       "      <td>500.386000</td>\n",
       "    </tr>\n",
       "    <tr>\n",
       "      <th>std</th>\n",
       "      <td>288.819436</td>\n",
       "      <td>144.607983</td>\n",
       "      <td>1.171243</td>\n",
       "      <td>282.269932</td>\n",
       "      <td>289.941478</td>\n",
       "      <td>285.992689</td>\n",
       "      <td>294.010873</td>\n",
       "      <td>286.645567</td>\n",
       "      <td>287.844324</td>\n",
       "      <td>289.234018</td>\n",
       "      <td>291.047287</td>\n",
       "      <td>289.945691</td>\n",
       "      <td>287.514731</td>\n",
       "      <td>288.710119</td>\n",
       "      <td>288.82451</td>\n",
       "      <td>278.509459</td>\n",
       "    </tr>\n",
       "    <tr>\n",
       "      <th>min</th>\n",
       "      <td>1.000000</td>\n",
       "      <td>7.290000</td>\n",
       "      <td>1.000000</td>\n",
       "      <td>1.000000</td>\n",
       "      <td>0.000000</td>\n",
       "      <td>2.000000</td>\n",
       "      <td>0.000000</td>\n",
       "      <td>0.000000</td>\n",
       "      <td>0.000000</td>\n",
       "      <td>0.000000</td>\n",
       "      <td>0.000000</td>\n",
       "      <td>5.000000</td>\n",
       "      <td>0.000000</td>\n",
       "      <td>1.000000</td>\n",
       "      <td>0.00000</td>\n",
       "      <td>4.000000</td>\n",
       "    </tr>\n",
       "    <tr>\n",
       "      <th>25%</th>\n",
       "      <td>250.750000</td>\n",
       "      <td>121.810000</td>\n",
       "      <td>2.000000</td>\n",
       "      <td>283.750000</td>\n",
       "      <td>245.500000</td>\n",
       "      <td>262.500000</td>\n",
       "      <td>243.750000</td>\n",
       "      <td>261.500000</td>\n",
       "      <td>221.000000</td>\n",
       "      <td>236.000000</td>\n",
       "      <td>254.000000</td>\n",
       "      <td>240.500000</td>\n",
       "      <td>247.250000</td>\n",
       "      <td>267.000000</td>\n",
       "      <td>251.25000</td>\n",
       "      <td>259.000000</td>\n",
       "    </tr>\n",
       "    <tr>\n",
       "      <th>50%</th>\n",
       "      <td>500.500000</td>\n",
       "      <td>250.920000</td>\n",
       "      <td>3.100000</td>\n",
       "      <td>543.000000</td>\n",
       "      <td>507.500000</td>\n",
       "      <td>508.000000</td>\n",
       "      <td>493.000000</td>\n",
       "      <td>501.500000</td>\n",
       "      <td>497.000000</td>\n",
       "      <td>479.500000</td>\n",
       "      <td>522.500000</td>\n",
       "      <td>499.500000</td>\n",
       "      <td>495.500000</td>\n",
       "      <td>532.000000</td>\n",
       "      <td>502.00000</td>\n",
       "      <td>500.500000</td>\n",
       "    </tr>\n",
       "    <tr>\n",
       "      <th>75%</th>\n",
       "      <td>750.250000</td>\n",
       "      <td>373.435000</td>\n",
       "      <td>4.000000</td>\n",
       "      <td>772.000000</td>\n",
       "      <td>740.750000</td>\n",
       "      <td>756.250000</td>\n",
       "      <td>777.250000</td>\n",
       "      <td>749.500000</td>\n",
       "      <td>727.000000</td>\n",
       "      <td>740.500000</td>\n",
       "      <td>757.250000</td>\n",
       "      <td>762.250000</td>\n",
       "      <td>735.250000</td>\n",
       "      <td>770.250000</td>\n",
       "      <td>761.00000</td>\n",
       "      <td>730.000000</td>\n",
       "    </tr>\n",
       "    <tr>\n",
       "      <th>max</th>\n",
       "      <td>1000.000000</td>\n",
       "      <td>499.860000</td>\n",
       "      <td>5.000000</td>\n",
       "      <td>999.000000</td>\n",
       "      <td>1000.000000</td>\n",
       "      <td>1000.000000</td>\n",
       "      <td>999.000000</td>\n",
       "      <td>1000.000000</td>\n",
       "      <td>1000.000000</td>\n",
       "      <td>1000.000000</td>\n",
       "      <td>1000.000000</td>\n",
       "      <td>1000.000000</td>\n",
       "      <td>1000.000000</td>\n",
       "      <td>1000.000000</td>\n",
       "      <td>1000.00000</td>\n",
       "      <td>1000.000000</td>\n",
       "    </tr>\n",
       "  </tbody>\n",
       "</table>\n",
       "</div>"
      ],
      "text/plain": [
       "        product_id        price  review_score  review_count  sales_month_1  \\\n",
       "count  1000.000000  1000.000000   1000.000000   1000.000000    1000.000000   \n",
       "mean    500.500000   247.677130      3.027600    526.506000     498.306000   \n",
       "std     288.819436   144.607983      1.171243    282.269932     289.941478   \n",
       "min       1.000000     7.290000      1.000000      1.000000       0.000000   \n",
       "25%     250.750000   121.810000      2.000000    283.750000     245.500000   \n",
       "50%     500.500000   250.920000      3.100000    543.000000     507.500000   \n",
       "75%     750.250000   373.435000      4.000000    772.000000     740.750000   \n",
       "max    1000.000000   499.860000      5.000000    999.000000    1000.000000   \n",
       "\n",
       "       sales_month_2  sales_month_3  sales_month_4  sales_month_5  \\\n",
       "count    1000.000000    1000.000000    1000.000000    1000.000000   \n",
       "mean      507.661000     506.739000     503.823000     487.194000   \n",
       "std       285.992689     294.010873     286.645567     287.844324   \n",
       "min         2.000000       0.000000       0.000000       0.000000   \n",
       "25%       262.500000     243.750000     261.500000     221.000000   \n",
       "50%       508.000000     493.000000     501.500000     497.000000   \n",
       "75%       756.250000     777.250000     749.500000     727.000000   \n",
       "max      1000.000000     999.000000    1000.000000    1000.000000   \n",
       "\n",
       "       sales_month_6  sales_month_7  sales_month_8  sales_month_9  \\\n",
       "count    1000.000000    1000.000000    1000.000000    1000.000000   \n",
       "mean      491.653000     507.011000     504.569000     491.934000   \n",
       "std       289.234018     291.047287     289.945691     287.514731   \n",
       "min         0.000000       0.000000       5.000000       0.000000   \n",
       "25%       236.000000     254.000000     240.500000     247.250000   \n",
       "50%       479.500000     522.500000     499.500000     495.500000   \n",
       "75%       740.500000     757.250000     762.250000     735.250000   \n",
       "max      1000.000000    1000.000000    1000.000000    1000.000000   \n",
       "\n",
       "       sales_month_10  sales_month_11  sales_month_12  \n",
       "count     1000.000000      1000.00000     1000.000000  \n",
       "mean       514.798000       505.83800      500.386000  \n",
       "std        288.710119       288.82451      278.509459  \n",
       "min          1.000000         0.00000        4.000000  \n",
       "25%        267.000000       251.25000      259.000000  \n",
       "50%        532.000000       502.00000      500.500000  \n",
       "75%        770.250000       761.00000      730.000000  \n",
       "max       1000.000000      1000.00000     1000.000000  "
      ]
     },
     "execution_count": 18,
     "metadata": {},
     "output_type": "execute_result"
    }
   ],
   "source": [
    "df.describe()"
   ]
  },
  {
   "cell_type": "markdown",
   "id": "45c53ddb",
   "metadata": {},
   "source": [
    "### Total sales per product category"
   ]
  },
  {
   "cell_type": "code",
   "execution_count": 30,
   "id": "1ce6443c",
   "metadata": {},
   "outputs": [],
   "source": [
    "df['total_sales'] = df.iloc[:, 6:].sum(axis=1)  # Sum sales across all 12 months\n",
    "category_sales = df.groupby('category')['total_sales'].sum().sort_values(ascending=False)"
   ]
  },
  {
   "cell_type": "code",
   "execution_count": 31,
   "id": "9ff5c035",
   "metadata": {},
   "outputs": [
    {
     "data": {
      "text/plain": [
       "category\n",
       "Books             938229\n",
       "Toys              917101\n",
       "Sports            916371\n",
       "Electronics       845120\n",
       "Health            834414\n",
       "Clothing          826536\n",
       "Home & Kitchen    742141\n",
       "Name: total_sales, dtype: int64"
      ]
     },
     "execution_count": 31,
     "metadata": {},
     "output_type": "execute_result"
    }
   ],
   "source": [
    "category_sales"
   ]
  },
  {
   "cell_type": "code",
   "execution_count": 32,
   "id": "48c713f3",
   "metadata": {},
   "outputs": [
    {
     "data": {
      "text/html": [
       "<div>\n",
       "<style scoped>\n",
       "    .dataframe tbody tr th:only-of-type {\n",
       "        vertical-align: middle;\n",
       "    }\n",
       "\n",
       "    .dataframe tbody tr th {\n",
       "        vertical-align: top;\n",
       "    }\n",
       "\n",
       "    .dataframe thead th {\n",
       "        text-align: right;\n",
       "    }\n",
       "</style>\n",
       "<table border=\"1\" class=\"dataframe\">\n",
       "  <thead>\n",
       "    <tr style=\"text-align: right;\">\n",
       "      <th></th>\n",
       "      <th>product_id</th>\n",
       "      <th>product_name</th>\n",
       "      <th>category</th>\n",
       "      <th>price</th>\n",
       "      <th>review_score</th>\n",
       "      <th>review_count</th>\n",
       "      <th>sales_month_1</th>\n",
       "      <th>sales_month_2</th>\n",
       "      <th>sales_month_3</th>\n",
       "      <th>sales_month_4</th>\n",
       "      <th>sales_month_5</th>\n",
       "      <th>sales_month_6</th>\n",
       "      <th>sales_month_7</th>\n",
       "      <th>sales_month_8</th>\n",
       "      <th>sales_month_9</th>\n",
       "      <th>sales_month_10</th>\n",
       "      <th>sales_month_11</th>\n",
       "      <th>sales_month_12</th>\n",
       "      <th>total_sales</th>\n",
       "    </tr>\n",
       "  </thead>\n",
       "  <tbody>\n",
       "    <tr>\n",
       "      <th>0</th>\n",
       "      <td>1</td>\n",
       "      <td>Product_1</td>\n",
       "      <td>Clothing</td>\n",
       "      <td>190.40</td>\n",
       "      <td>1.7</td>\n",
       "      <td>220</td>\n",
       "      <td>479</td>\n",
       "      <td>449</td>\n",
       "      <td>92</td>\n",
       "      <td>784</td>\n",
       "      <td>604</td>\n",
       "      <td>904</td>\n",
       "      <td>446</td>\n",
       "      <td>603</td>\n",
       "      <td>807</td>\n",
       "      <td>252</td>\n",
       "      <td>695</td>\n",
       "      <td>306</td>\n",
       "      <td>6421</td>\n",
       "    </tr>\n",
       "    <tr>\n",
       "      <th>1</th>\n",
       "      <td>2</td>\n",
       "      <td>Product_2</td>\n",
       "      <td>Home &amp; Kitchen</td>\n",
       "      <td>475.60</td>\n",
       "      <td>3.2</td>\n",
       "      <td>903</td>\n",
       "      <td>21</td>\n",
       "      <td>989</td>\n",
       "      <td>861</td>\n",
       "      <td>863</td>\n",
       "      <td>524</td>\n",
       "      <td>128</td>\n",
       "      <td>610</td>\n",
       "      <td>436</td>\n",
       "      <td>176</td>\n",
       "      <td>294</td>\n",
       "      <td>772</td>\n",
       "      <td>353</td>\n",
       "      <td>6027</td>\n",
       "    </tr>\n",
       "    <tr>\n",
       "      <th>2</th>\n",
       "      <td>3</td>\n",
       "      <td>Product_3</td>\n",
       "      <td>Toys</td>\n",
       "      <td>367.34</td>\n",
       "      <td>4.5</td>\n",
       "      <td>163</td>\n",
       "      <td>348</td>\n",
       "      <td>558</td>\n",
       "      <td>567</td>\n",
       "      <td>143</td>\n",
       "      <td>771</td>\n",
       "      <td>409</td>\n",
       "      <td>290</td>\n",
       "      <td>828</td>\n",
       "      <td>340</td>\n",
       "      <td>667</td>\n",
       "      <td>267</td>\n",
       "      <td>392</td>\n",
       "      <td>5580</td>\n",
       "    </tr>\n",
       "    <tr>\n",
       "      <th>3</th>\n",
       "      <td>4</td>\n",
       "      <td>Product_4</td>\n",
       "      <td>Toys</td>\n",
       "      <td>301.34</td>\n",
       "      <td>3.9</td>\n",
       "      <td>951</td>\n",
       "      <td>725</td>\n",
       "      <td>678</td>\n",
       "      <td>59</td>\n",
       "      <td>15</td>\n",
       "      <td>937</td>\n",
       "      <td>421</td>\n",
       "      <td>670</td>\n",
       "      <td>933</td>\n",
       "      <td>56</td>\n",
       "      <td>157</td>\n",
       "      <td>168</td>\n",
       "      <td>203</td>\n",
       "      <td>5022</td>\n",
       "    </tr>\n",
       "    <tr>\n",
       "      <th>4</th>\n",
       "      <td>5</td>\n",
       "      <td>Product_5</td>\n",
       "      <td>Books</td>\n",
       "      <td>82.23</td>\n",
       "      <td>4.2</td>\n",
       "      <td>220</td>\n",
       "      <td>682</td>\n",
       "      <td>451</td>\n",
       "      <td>649</td>\n",
       "      <td>301</td>\n",
       "      <td>620</td>\n",
       "      <td>293</td>\n",
       "      <td>411</td>\n",
       "      <td>258</td>\n",
       "      <td>854</td>\n",
       "      <td>548</td>\n",
       "      <td>770</td>\n",
       "      <td>257</td>\n",
       "      <td>6094</td>\n",
       "    </tr>\n",
       "  </tbody>\n",
       "</table>\n",
       "</div>"
      ],
      "text/plain": [
       "   product_id product_name        category   price  review_score  \\\n",
       "0           1    Product_1        Clothing  190.40           1.7   \n",
       "1           2    Product_2  Home & Kitchen  475.60           3.2   \n",
       "2           3    Product_3            Toys  367.34           4.5   \n",
       "3           4    Product_4            Toys  301.34           3.9   \n",
       "4           5    Product_5           Books   82.23           4.2   \n",
       "\n",
       "   review_count  sales_month_1  sales_month_2  sales_month_3  sales_month_4  \\\n",
       "0           220            479            449             92            784   \n",
       "1           903             21            989            861            863   \n",
       "2           163            348            558            567            143   \n",
       "3           951            725            678             59             15   \n",
       "4           220            682            451            649            301   \n",
       "\n",
       "   sales_month_5  sales_month_6  sales_month_7  sales_month_8  sales_month_9  \\\n",
       "0            604            904            446            603            807   \n",
       "1            524            128            610            436            176   \n",
       "2            771            409            290            828            340   \n",
       "3            937            421            670            933             56   \n",
       "4            620            293            411            258            854   \n",
       "\n",
       "   sales_month_10  sales_month_11  sales_month_12  total_sales  \n",
       "0             252             695             306         6421  \n",
       "1             294             772             353         6027  \n",
       "2             667             267             392         5580  \n",
       "3             157             168             203         5022  \n",
       "4             548             770             257         6094  "
      ]
     },
     "execution_count": 32,
     "metadata": {},
     "output_type": "execute_result"
    }
   ],
   "source": [
    "df.head()"
   ]
  },
  {
   "cell_type": "markdown",
   "id": "47b19491",
   "metadata": {},
   "source": [
    "### Top 5 Best selling products"
   ]
  },
  {
   "cell_type": "code",
   "execution_count": 35,
   "id": "6d692afb",
   "metadata": {},
   "outputs": [
    {
     "data": {
      "text/html": [
       "<div>\n",
       "<style scoped>\n",
       "    .dataframe tbody tr th:only-of-type {\n",
       "        vertical-align: middle;\n",
       "    }\n",
       "\n",
       "    .dataframe tbody tr th {\n",
       "        vertical-align: top;\n",
       "    }\n",
       "\n",
       "    .dataframe thead th {\n",
       "        text-align: right;\n",
       "    }\n",
       "</style>\n",
       "<table border=\"1\" class=\"dataframe\">\n",
       "  <thead>\n",
       "    <tr style=\"text-align: right;\">\n",
       "      <th></th>\n",
       "      <th>product_name</th>\n",
       "      <th>category</th>\n",
       "      <th>total_sales</th>\n",
       "    </tr>\n",
       "  </thead>\n",
       "  <tbody>\n",
       "    <tr>\n",
       "      <th>223</th>\n",
       "      <td>Product_224</td>\n",
       "      <td>Electronics</td>\n",
       "      <td>9151</td>\n",
       "    </tr>\n",
       "    <tr>\n",
       "      <th>285</th>\n",
       "      <td>Product_286</td>\n",
       "      <td>Clothing</td>\n",
       "      <td>8921</td>\n",
       "    </tr>\n",
       "    <tr>\n",
       "      <th>733</th>\n",
       "      <td>Product_734</td>\n",
       "      <td>Health</td>\n",
       "      <td>8914</td>\n",
       "    </tr>\n",
       "    <tr>\n",
       "      <th>904</th>\n",
       "      <td>Product_905</td>\n",
       "      <td>Sports</td>\n",
       "      <td>8783</td>\n",
       "    </tr>\n",
       "    <tr>\n",
       "      <th>179</th>\n",
       "      <td>Product_180</td>\n",
       "      <td>Sports</td>\n",
       "      <td>8775</td>\n",
       "    </tr>\n",
       "  </tbody>\n",
       "</table>\n",
       "</div>"
      ],
      "text/plain": [
       "    product_name     category  total_sales\n",
       "223  Product_224  Electronics         9151\n",
       "285  Product_286     Clothing         8921\n",
       "733  Product_734       Health         8914\n",
       "904  Product_905       Sports         8783\n",
       "179  Product_180       Sports         8775"
      ]
     },
     "execution_count": 35,
     "metadata": {},
     "output_type": "execute_result"
    }
   ],
   "source": [
    "top_products = df[['product_name', 'category','total_sales']].sort_values(by='total_sales', ascending = False).head(5)\n",
    "top_products"
   ]
  },
  {
   "cell_type": "markdown",
   "id": "5c71d282",
   "metadata": {},
   "source": [
    "### Average review scores by Categroy"
   ]
  },
  {
   "cell_type": "code",
   "execution_count": 38,
   "id": "f94af9c8",
   "metadata": {},
   "outputs": [
    {
     "data": {
      "text/plain": [
       "category\n",
       "Electronics       3.143478\n",
       "Books             3.096753\n",
       "Sports            3.091503\n",
       "Home & Kitchen    3.035200\n",
       "Health            3.005036\n",
       "Clothing          2.952143\n",
       "Toys              2.870861\n",
       "Name: review_score, dtype: float64"
      ]
     },
     "execution_count": 38,
     "metadata": {},
     "output_type": "execute_result"
    }
   ],
   "source": [
    "category_review_scores = df.groupby('category')['review_score'].mean().sort_values(ascending=False)\n",
    "category_review_scores"
   ]
  },
  {
   "cell_type": "markdown",
   "id": "80105bc4",
   "metadata": {},
   "source": [
    "# Visualization\n"
   ]
  },
  {
   "cell_type": "markdown",
   "id": "5b95a01c",
   "metadata": {},
   "source": [
    "### 1.Total Sales per category"
   ]
  },
  {
   "cell_type": "code",
   "execution_count": 47,
   "id": "0afa84c4",
   "metadata": {},
   "outputs": [
    {
     "data": {
      "image/png": "[encoded data removed]",
      "text/plain": [
       "<Figure size 1000x500 with 1 Axes>"
      ]
     },
     "metadata": {},
     "output_type": "display_data"
    }
   ],
   "source": [
    "plt.figure(figsize=(10,5))\n",
    "sns.barplot(x = category_sales.index, y=category_sales.values, palette='viridis')\n",
    "plt.xticks(rotation=45)      #rotation of x-axis labels to improve readability\n",
    "plt.title(\"Total sales per product category\")\n",
    "plt.xlabel(\"Category\")\n",
    "plt.ylabel(\"Total Sales\")\n",
    "plt.show()"
   ]
  },
  {
   "cell_type": "markdown",
   "id": "a2bb9a00",
   "metadata": {},
   "source": [
    "### 2.Top 5 Best Selling Products"
   ]
  },
  {
   "cell_type": "code",
   "execution_count": 49,
   "id": "f5ac10d2",
   "metadata": {},
   "outputs": [
    {
     "data": {
      "image/png": "[encoded data removed]",
      "text/plain": [
       "<Figure size 1000x500 with 1 Axes>"
      ]
     },
     "metadata": {},
     "output_type": "display_data"
    }
   ],
   "source": [
    "plt.figure(figsize=(10,5))\n",
    "sns.barplot(x = top_products['product_name'], y = top_products['total_sales'])\n",
    "plt.xticks(rotation=45)\n",
    "plt.title(\"Top 5 best selling products\")\n",
    "plt.xlabel(\"Product Name\")\n",
    "plt.ylabel(\"Total Sales\")\n",
    "plt.show()"
   ]
  },
  {
   "cell_type": "markdown",
   "id": "e0d01901",
   "metadata": {},
   "source": [
    "### 3.Average Review Score by Category"
   ]
  },
  {
   "cell_type": "code",
   "execution_count": 50,
   "id": "980b28a5",
   "metadata": {},
   "outputs": [
    {
     "data": {
      "image/png": "[encoded data removed]",
      "text/plain": [
       "<Figure size 1000x500 with 1 Axes>"
      ]
     },
     "metadata": {},
     "output_type": "display_data"
    }
   ],
   "source": [
    "plt.figure(figsize=(10, 5))\n",
    "sns.barplot(x=category_review_scores.index, y=category_review_scores.values, palette=\"Blues_r\")\n",
    "plt.xticks(rotation=45)\n",
    "plt.ylim(2.5, 3.2)  # Setting y-axis limit for better visualization\n",
    "plt.title(\"Average Review Score by Category\")\n",
    "plt.xlabel(\"Category\")\n",
    "plt.ylabel(\"Average Review Score\")\n",
    "plt.show()"
   ]
  },
  {
   "cell_type": "markdown",
   "id": "3f85822b",
   "metadata": {},
   "source": [
    "### 4.Price Distribution"
   ]
  },
  {
   "cell_type": "code",
   "execution_count": 52,
   "id": "cc3932b3",
   "metadata": {},
   "outputs": [
    {
     "data": {
      "image/png": "[encoded data removed]",
      "text/plain": [
       "<Figure size 640x480 with 1 Axes>"
      ]
     },
     "metadata": {},
     "output_type": "display_data"
    }
   ],
   "source": [
    "sns.boxplot(x=df['price'], color=\"orange\")\n",
    "plt.title(\"Price Distribution of Products\")\n",
    "plt.xlabel(\"Price (₹)\")\n",
    "plt.show()"
   ]
  },
  {
   "cell_type": "code",
   "execution_count": null,
   "id": "2834b4f7",
   "metadata": {},
   "outputs": [],
   "source": []
  }
 ],
 "metadata": {
  "kernelspec": {
   "display_name": "Python 3 (ipykernel)",
   "language": "python",
   "name": "python3"
  },
  "language_info": {
   "codemirror_mode": {
    "name": "ipython",
    "version": 3
   },
   "file_extension": ".py",
   "mimetype": "text/x-python",
   "name": "python",
   "nbconvert_exporter": "python",
   "pygments_lexer": "ipython3",
   "version": "3.10.9"
  }
 },
 "nbformat": 4,
 "nbformat_minor": 5
}
